{
 "cells": [
  {
   "cell_type": "markdown",
   "id": "0ccb0b7f",
   "metadata": {},
   "source": [
    "# 451 Financial Engineering: Programming Assignment 2\n",
    "**Eli Freedman**\n",
    "\n",
    "**October 19, 2025**"
   ]
  },
  {
   "cell_type": "markdown",
   "id": "3c354b1c",
   "metadata": {},
   "source": [
    "## Overview"
   ]
  },
  {
   "cell_type": "markdown",
   "id": "b511bd1f",
   "metadata": {},
   "source": [
    "This assignment investigates simulating returns for varying assets using either only long positions, or long and short positions. The simulation is performed on two different sets of assets. The first set, denoted as `set_1` throughout the notebook, is dummy data collected from the jumpstart code provided by Professor Miller. The second set, `set_2`, is made up of four equities: Procter & Gamble (`$PG`), Coca-Cola (`$KO`), PepsiCo (`$PEP`), and Costco (`$COST`). These equities were used specifically because they are used for my final project consumer staples ETF.\n",
    "\n",
    "Notes:\n",
    "- Mean Returns and Volatility for `asset_set_2` are captured from the annual average over the last 20 years\n",
    "\n",
    "References:\n",
    "- https://www.financecharts.com/stocks/PG/performance/total-return-cagr\n",
    "- https://www.financecharts.com/stocks/KO/performance/total-return-cagr\n",
    "- https://www.financecharts.com/stocks/PEP/performance/total-return-cagr\n",
    "- https://www.financecharts.com/stocks/COST/performance/total-return-cagr\n",
    "- https://www.finance.yahoo.com"
   ]
  },
  {
   "cell_type": "markdown",
   "id": "2868cc6c",
   "metadata": {},
   "source": [
    "## Imports"
   ]
  },
  {
   "cell_type": "code",
   "execution_count": 1,
   "id": "2cac7b3b",
   "metadata": {},
   "outputs": [],
   "source": [
    "import yfinance as yf\n",
    "import numpy as np\n",
    "import pandas as pd\n",
    "import seaborn as sns\n",
    "import matplotlib.pyplot as plt\n",
    "\n",
    "from matplotlib.backends.backend_pdf import PdfPages"
   ]
  },
  {
   "cell_type": "markdown",
   "id": "37b9f72b",
   "metadata": {},
   "source": [
    "## Set Variables and Functions"
   ]
  },
  {
   "cell_type": "code",
   "execution_count": 2,
   "id": "d0075e1c",
   "metadata": {},
   "outputs": [],
   "source": [
    "# Set variables for tickers and date range\n",
    "tickers = ['PG', 'KO', 'PEP', 'COST']\n",
    "start_date = '2005-01-01'\n",
    "end_date = '2025-01-01'\n",
    "\n",
    "# Number of Monte Carlo simulations\n",
    "sample_size = 700\n",
    "\n",
    "# Set random seed for reproducibility\n",
    "rng = np.random.default_rng(seed=56)\n",
    "\n",
    "# Generate random seed for weight generation\n",
    "rng_weight_seed = np.random.default_rng(seed=16)"
   ]
  },
  {
   "cell_type": "code",
   "execution_count": 3,
   "id": "9f395894",
   "metadata": {},
   "outputs": [],
   "source": [
    "def make_weights(shorts_ok, rng):\n",
    "    if shorts_ok:\n",
    "        three = rng.uniform(-1, 1, size=3)\n",
    "        fourth = 1 - three.sum()\n",
    "        return np.concatenate([three, [fourth]])\n",
    "    else:\n",
    "        w = rng.uniform(0, 1, size=4)\n",
    "        return w / w.sum()"
   ]
  },
  {
   "cell_type": "code",
   "execution_count": 4,
   "id": "4c0be273",
   "metadata": {},
   "outputs": [],
   "source": [
    "def portfolio_stats(weights_matrix, returns, data_cov):\n",
    "    results = []\n",
    "    for w in weights_matrix:\n",
    "        positions = 1  # has shorts\n",
    "        if np.all(w > 0):\n",
    "            positions = 2\n",
    "        # portfolio returns time series = returns @ w\n",
    "        ret_series = returns @ w\n",
    "        return_mean = ret_series.mean()\n",
    "        return_sd = np.sqrt(w.T @ data_cov @ w)\n",
    "        results.append({\n",
    "            'w1': w[0], 'w2': w[1], 'w3': w[2], 'w4': w[3],\n",
    "            'Positions': positions, 'returnMean': return_mean, 'returnSD': return_sd\n",
    "        })\n",
    "    return pd.DataFrame(results)"
   ]
  },
  {
   "cell_type": "markdown",
   "id": "1f05da15",
   "metadata": {},
   "source": [
    "## Initial Conditions"
   ]
  },
  {
   "cell_type": "markdown",
   "id": "cbbe22cf",
   "metadata": {},
   "source": [
    "### Mean Annual Returns"
   ]
  },
  {
   "cell_type": "code",
   "execution_count": 5,
   "id": "2cd3b266",
   "metadata": {},
   "outputs": [],
   "source": [
    "# These are the dummy assets from the jumpstart code\n",
    "mean_returns_set_1 = np.array([\n",
    "    0.02, # Asset A\n",
    "    0.07, # Asset B\n",
    "    0.15, # Asset C\n",
    "    0.20  # Asset D\n",
    "])\n",
    "\n",
    "# These are four assets from the final project\n",
    "mean_returns_set_2 = np.array([\n",
    "    0.0803, # $PG\n",
    "    0.0927, # $KO\n",
    "    0.0801, # $PEP\n",
    "    0.1942  # $COST\n",
    "])"
   ]
  },
  {
   "cell_type": "markdown",
   "id": "f6f67aa0",
   "metadata": {},
   "source": [
    "### Volatility of Annual Returns"
   ]
  },
  {
   "cell_type": "markdown",
   "id": "a1868fbd",
   "metadata": {},
   "source": [
    "I was not able to find the 20-year volatility of these assets online, so I calculated it myself."
   ]
  },
  {
   "cell_type": "code",
   "execution_count": 6,
   "id": "29fdd75b",
   "metadata": {},
   "outputs": [
    {
     "name": "stdout",
     "output_type": "stream",
     "text": [
      "Fetched data for PG\n",
      "Saving to CSV...\n",
      "Fetched data for KO\n",
      "Saving to CSV...\n",
      "Fetched data for PEP\n",
      "Saving to CSV...\n",
      "Fetched data for COST\n",
      "Saving to CSV...\n",
      "\n",
      "       Annualized Volatility\n",
      "PG                 0.180402\n",
      "KO                 0.181312\n",
      "PEP                0.179856\n",
      "COST               0.224072\n"
     ]
    }
   ],
   "source": [
    "volatilities = {}\n",
    "\n",
    "for symbol in tickers:\n",
    "    ticker = yf.Ticker(symbol)\n",
    "    data = ticker.history(start=start_date, end=end_date, auto_adjust=True)\n",
    "    if data.empty:\n",
    "        print(f\"No data for {symbol}\")\n",
    "        continue\n",
    "    else:\n",
    "        print(f\"Fetched data for {symbol}\")\n",
    "        print(\"Saving to CSV...\")\n",
    "        data.to_csv(f\"{symbol}_historical_data.csv\")\n",
    "\n",
    "    # Use Adjusted Close prices\n",
    "    data['log_return'] = np.log(data['Close'] / data['Close'].shift(1))\n",
    "    \n",
    "    # Compute daily standard deviation of log returns\n",
    "    sigma_d = data['log_return'].std(ddof=1)\n",
    "    \n",
    "    # Annualize volatility\n",
    "    sigma_ann = sigma_d * np.sqrt(252)\n",
    "    \n",
    "    volatilities[symbol] = sigma_ann\n",
    "\n",
    "vol_df = pd.DataFrame.from_dict(volatilities, orient='index', columns=['Annualized Volatility'])\n",
    "print(\"\\n\", vol_df)"
   ]
  },
  {
   "cell_type": "code",
   "execution_count": 7,
   "id": "b7a3107e",
   "metadata": {},
   "outputs": [],
   "source": [
    "# These are the dummy assets from the jumpstart code\n",
    "sd_returns_set_1 = np.array([\n",
    "    0.05, # Asset A\n",
    "    0.12, # Asset B\n",
    "    0.17, # Asset C\n",
    "    0.25  # Asset D\n",
    "])\n",
    "\n",
    "# These are four assets from the final project\n",
    "sd_returns_set_2 = np.array([\n",
    "    0.180402, # $PG\n",
    "    0.181312, # $KO\n",
    "    0.179856, # $PEP\n",
    "    0.224072  # $COST\n",
    "])"
   ]
  },
  {
   "cell_type": "markdown",
   "id": "d03beabf",
   "metadata": {},
   "source": [
    "### Asset Correlation"
   ]
  },
  {
   "cell_type": "code",
   "execution_count": 8,
   "id": "8616f465",
   "metadata": {},
   "outputs": [
    {
     "name": "stdout",
     "output_type": "stream",
     "text": [
      "\n",
      "Covariance Matrix:\n",
      "            PG        KO       PEP      COST\n",
      "PG    0.013053  0.007836  0.009981  0.013383\n",
      "KO    0.007836  0.014922  0.012216  0.009342\n",
      "PEP   0.009981  0.012216  0.016369  0.012092\n",
      "COST  0.013383  0.009342  0.012092  0.033627\n",
      "\n",
      "Correlation Matrix:\n",
      "            PG        KO       PEP      COST\n",
      "PG    1.000000  0.561462  0.682807  0.638789\n",
      "KO    0.561462  1.000000  0.781619  0.417024\n",
      "PEP   0.682807  0.781619  1.000000  0.515382\n",
      "COST  0.638789  0.417024  0.515382  1.000000\n"
     ]
    }
   ],
   "source": [
    "# Fetch historical adjusted close prices for each ticker\n",
    "price_data = pd.DataFrame()\n",
    "for t in tickers:\n",
    "    ticker = yf.Ticker(t)\n",
    "    hist = ticker.history(start=start_date, end=end_date, auto_adjust=True)['Close']\n",
    "    hist.name = t\n",
    "    price_data = pd.concat([price_data, hist], axis=1)\n",
    "\n",
    "# Ensure the index is a DatetimeIndex\n",
    "price_data.index = pd.to_datetime(price_data.index)\n",
    "\n",
    "# Compute annual log returns\n",
    "annual_prices = price_data.resample('YE').ffill()  # Resample by year\n",
    "annual_returns = np.log(annual_prices / annual_prices.shift(1)).dropna()\n",
    "\n",
    "# Annualized volatility (std of returns)\n",
    "annual_vol = annual_returns.std() * np.sqrt(252)\n",
    "\n",
    "# Covariance matrix\n",
    "cov_matrix = annual_returns.cov()\n",
    "\n",
    "# Correlation matrix\n",
    "corr_matrix = annual_returns.corr()\n",
    "\n",
    "print(\"\\nCovariance Matrix:\")\n",
    "print(cov_matrix)\n",
    "print(\"\\nCorrelation Matrix:\")\n",
    "print(corr_matrix)\n"
   ]
  },
  {
   "cell_type": "code",
   "execution_count": 9,
   "id": "8edd113c",
   "metadata": {},
   "outputs": [],
   "source": [
    "# These are the dummy assets from the jumpstart code\n",
    "corr_matrix_set_1 = np.array([\n",
    "    [1.0, 0.3, 0.3, 0.3],\n",
    "    [0.3, 1.0, 0.6, 0.6],\n",
    "    [0.3, 0.6, 1.0, 0.6],\n",
    "    [0.3, 0.6, 0.6, 1.0]\n",
    "])\n",
    "\n",
    "# These are four assets from the final project\n",
    "corr_matrix_set_2 = np.array([\n",
    "    [1.000000, 0.541451, 0.702363, 0.658261],\n",
    "    [0.541451, 1.000000, 0.764840, 0.411341],\n",
    "    [0.702363, 0.764840, 1.000000, 0.538116],\n",
    "    [0.658261, 0.411341, 0.538116, 1.000000]\n",
    "])"
   ]
  },
  {
   "cell_type": "markdown",
   "id": "89d26e8f",
   "metadata": {},
   "source": [
    "### Asset Covariance"
   ]
  },
  {
   "cell_type": "code",
   "execution_count": 10,
   "id": "ea7335f1",
   "metadata": {},
   "outputs": [],
   "source": [
    "# These are the dummy assets from the jumpstart code\n",
    "cov_matrix_set_1 = np.diag(sd_returns_set_1) @ corr_matrix_set_1 @ np.diag(sd_returns_set_1)\n",
    "\n",
    "# These are four assets from the final project\n",
    "cov_matrix_set_2 = np.diag(sd_returns_set_2) @ corr_matrix_set_2 @ np.diag(sd_returns_set_2)"
   ]
  },
  {
   "cell_type": "markdown",
   "id": "c9e51883",
   "metadata": {},
   "source": [
    "## Generate Multivariate Normal Returns"
   ]
  },
  {
   "cell_type": "code",
   "execution_count": 11,
   "id": "2c58cbd2",
   "metadata": {},
   "outputs": [],
   "source": [
    "set_1_returns = rng.multivariate_normal(\n",
    "    mean=mean_returns_set_1,\n",
    "    cov=cov_matrix_set_1,\n",
    "    size=sample_size\n",
    ")\n",
    "\n",
    "set_2_returns = rng.multivariate_normal(\n",
    "    mean=mean_returns_set_2,\n",
    "    cov=cov_matrix_set_2,\n",
    "    size=sample_size\n",
    ")"
   ]
  },
  {
   "cell_type": "code",
   "execution_count": 12,
   "id": "354393f9",
   "metadata": {},
   "outputs": [],
   "source": [
    "set_1_returns_df = pd.DataFrame(set_1_returns, columns=['Asset A', 'Asset B', 'Asset C', 'Asset D'])\n",
    "\n",
    "set_2_returns_df = pd.DataFrame(set_2_returns, columns=tickers)"
   ]
  },
  {
   "cell_type": "code",
   "execution_count": 13,
   "id": "46a9cba2",
   "metadata": {},
   "outputs": [
    {
     "data": {
      "text/html": [
       "<div>\n",
       "<style scoped>\n",
       "    .dataframe tbody tr th:only-of-type {\n",
       "        vertical-align: middle;\n",
       "    }\n",
       "\n",
       "    .dataframe tbody tr th {\n",
       "        vertical-align: top;\n",
       "    }\n",
       "\n",
       "    .dataframe thead th {\n",
       "        text-align: right;\n",
       "    }\n",
       "</style>\n",
       "<table border=\"1\" class=\"dataframe\">\n",
       "  <thead>\n",
       "    <tr style=\"text-align: right;\">\n",
       "      <th></th>\n",
       "      <th>count</th>\n",
       "      <th>mean</th>\n",
       "      <th>std</th>\n",
       "      <th>min</th>\n",
       "      <th>25%</th>\n",
       "      <th>50%</th>\n",
       "      <th>75%</th>\n",
       "      <th>max</th>\n",
       "    </tr>\n",
       "  </thead>\n",
       "  <tbody>\n",
       "    <tr>\n",
       "      <th>Asset A</th>\n",
       "      <td>700.0</td>\n",
       "      <td>0.018545</td>\n",
       "      <td>0.050081</td>\n",
       "      <td>-0.129666</td>\n",
       "      <td>-0.014498</td>\n",
       "      <td>0.017150</td>\n",
       "      <td>0.050914</td>\n",
       "      <td>0.174928</td>\n",
       "    </tr>\n",
       "    <tr>\n",
       "      <th>Asset B</th>\n",
       "      <td>700.0</td>\n",
       "      <td>0.059293</td>\n",
       "      <td>0.123838</td>\n",
       "      <td>-0.339751</td>\n",
       "      <td>-0.019557</td>\n",
       "      <td>0.053695</td>\n",
       "      <td>0.143892</td>\n",
       "      <td>0.440008</td>\n",
       "    </tr>\n",
       "    <tr>\n",
       "      <th>Asset C</th>\n",
       "      <td>700.0</td>\n",
       "      <td>0.150622</td>\n",
       "      <td>0.171161</td>\n",
       "      <td>-0.381248</td>\n",
       "      <td>0.042682</td>\n",
       "      <td>0.150592</td>\n",
       "      <td>0.263329</td>\n",
       "      <td>0.742309</td>\n",
       "    </tr>\n",
       "    <tr>\n",
       "      <th>Asset D</th>\n",
       "      <td>700.0</td>\n",
       "      <td>0.192199</td>\n",
       "      <td>0.258879</td>\n",
       "      <td>-0.577995</td>\n",
       "      <td>0.023269</td>\n",
       "      <td>0.198909</td>\n",
       "      <td>0.360243</td>\n",
       "      <td>0.965651</td>\n",
       "    </tr>\n",
       "  </tbody>\n",
       "</table>\n",
       "</div>"
      ],
      "text/plain": [
       "         count      mean       std       min       25%       50%       75%  \\\n",
       "Asset A  700.0  0.018545  0.050081 -0.129666 -0.014498  0.017150  0.050914   \n",
       "Asset B  700.0  0.059293  0.123838 -0.339751 -0.019557  0.053695  0.143892   \n",
       "Asset C  700.0  0.150622  0.171161 -0.381248  0.042682  0.150592  0.263329   \n",
       "Asset D  700.0  0.192199  0.258879 -0.577995  0.023269  0.198909  0.360243   \n",
       "\n",
       "              max  \n",
       "Asset A  0.174928  \n",
       "Asset B  0.440008  \n",
       "Asset C  0.742309  \n",
       "Asset D  0.965651  "
      ]
     },
     "execution_count": 13,
     "metadata": {},
     "output_type": "execute_result"
    }
   ],
   "source": [
    "set_1_returns_df.describe().T"
   ]
  },
  {
   "cell_type": "code",
   "execution_count": 14,
   "id": "b29bc2e6",
   "metadata": {},
   "outputs": [
    {
     "data": {
      "text/html": [
       "<div>\n",
       "<style scoped>\n",
       "    .dataframe tbody tr th:only-of-type {\n",
       "        vertical-align: middle;\n",
       "    }\n",
       "\n",
       "    .dataframe tbody tr th {\n",
       "        vertical-align: top;\n",
       "    }\n",
       "\n",
       "    .dataframe thead th {\n",
       "        text-align: right;\n",
       "    }\n",
       "</style>\n",
       "<table border=\"1\" class=\"dataframe\">\n",
       "  <thead>\n",
       "    <tr style=\"text-align: right;\">\n",
       "      <th></th>\n",
       "      <th>count</th>\n",
       "      <th>mean</th>\n",
       "      <th>std</th>\n",
       "      <th>min</th>\n",
       "      <th>25%</th>\n",
       "      <th>50%</th>\n",
       "      <th>75%</th>\n",
       "      <th>max</th>\n",
       "    </tr>\n",
       "  </thead>\n",
       "  <tbody>\n",
       "    <tr>\n",
       "      <th>PG</th>\n",
       "      <td>700.0</td>\n",
       "      <td>0.078142</td>\n",
       "      <td>0.185140</td>\n",
       "      <td>-0.457300</td>\n",
       "      <td>-0.045537</td>\n",
       "      <td>0.073792</td>\n",
       "      <td>0.214033</td>\n",
       "      <td>0.564758</td>\n",
       "    </tr>\n",
       "    <tr>\n",
       "      <th>KO</th>\n",
       "      <td>700.0</td>\n",
       "      <td>0.095131</td>\n",
       "      <td>0.172812</td>\n",
       "      <td>-0.462481</td>\n",
       "      <td>-0.013269</td>\n",
       "      <td>0.098898</td>\n",
       "      <td>0.208753</td>\n",
       "      <td>0.571050</td>\n",
       "    </tr>\n",
       "    <tr>\n",
       "      <th>PEP</th>\n",
       "      <td>700.0</td>\n",
       "      <td>0.085292</td>\n",
       "      <td>0.179036</td>\n",
       "      <td>-0.448244</td>\n",
       "      <td>-0.031140</td>\n",
       "      <td>0.090667</td>\n",
       "      <td>0.207983</td>\n",
       "      <td>0.547425</td>\n",
       "    </tr>\n",
       "    <tr>\n",
       "      <th>COST</th>\n",
       "      <td>700.0</td>\n",
       "      <td>0.191791</td>\n",
       "      <td>0.226062</td>\n",
       "      <td>-0.501604</td>\n",
       "      <td>0.041494</td>\n",
       "      <td>0.202649</td>\n",
       "      <td>0.349691</td>\n",
       "      <td>1.007241</td>\n",
       "    </tr>\n",
       "  </tbody>\n",
       "</table>\n",
       "</div>"
      ],
      "text/plain": [
       "      count      mean       std       min       25%       50%       75%  \\\n",
       "PG    700.0  0.078142  0.185140 -0.457300 -0.045537  0.073792  0.214033   \n",
       "KO    700.0  0.095131  0.172812 -0.462481 -0.013269  0.098898  0.208753   \n",
       "PEP   700.0  0.085292  0.179036 -0.448244 -0.031140  0.090667  0.207983   \n",
       "COST  700.0  0.191791  0.226062 -0.501604  0.041494  0.202649  0.349691   \n",
       "\n",
       "           max  \n",
       "PG    0.564758  \n",
       "KO    0.571050  \n",
       "PEP   0.547425  \n",
       "COST  1.007241  "
      ]
     },
     "execution_count": 14,
     "metadata": {},
     "output_type": "execute_result"
    }
   ],
   "source": [
    "set_2_returns_df.describe().T"
   ]
  },
  {
   "cell_type": "markdown",
   "id": "8e5a8cfb",
   "metadata": {},
   "source": [
    "## Compare Correlations and Covariances"
   ]
  },
  {
   "cell_type": "code",
   "execution_count": 15,
   "id": "c63bbc41",
   "metadata": {},
   "outputs": [
    {
     "name": "stdout",
     "output_type": "stream",
     "text": [
      "\n",
      "Target Correlation Matrix Set 1:\n",
      "[[1.  0.3 0.3 0.3]\n",
      " [0.3 1.  0.6 0.6]\n",
      " [0.3 0.6 1.  0.6]\n",
      " [0.3 0.6 0.6 1. ]]\n",
      "\n",
      "Actual Correlation Matrix Set 1:\n",
      "[[1.         0.32493344 0.32137954 0.31708109]\n",
      " [0.32493344 1.         0.59439404 0.61270397]\n",
      " [0.32137954 0.59439404 1.         0.61720412]\n",
      " [0.31708109 0.61270397 0.61720412 1.        ]]\n",
      "\n",
      "Target Covariance Matrix Set 1:\n",
      "[[0.0025  0.0018  0.00255 0.00375]\n",
      " [0.0018  0.0144  0.01224 0.018  ]\n",
      " [0.00255 0.01224 0.0289  0.0255 ]\n",
      " [0.00375 0.018   0.0255  0.0625 ]]\n",
      "\n",
      "Actual Covariance Matrix Set 1:\n",
      "[[0.00250812 0.00201523 0.00275485 0.00411093]\n",
      " [0.00201523 0.01533596 0.01259898 0.01964275]\n",
      " [0.00275485 0.01259898 0.02929617 0.0273483 ]\n",
      " [0.00411093 0.01964275 0.0273483  0.06701811]]\n",
      "\n"
     ]
    }
   ],
   "source": [
    "cov_matrix_set_1_actual = set_1_returns_df.cov().values\n",
    "\n",
    "print(\n",
    "f\"\"\"\n",
    "Target Correlation Matrix Set 1:\n",
    "{corr_matrix_set_1}\n",
    "\n",
    "Actual Correlation Matrix Set 1:\n",
    "{set_1_returns_df.corr().values}\n",
    "\n",
    "Target Covariance Matrix Set 1:\n",
    "{cov_matrix_set_1}\n",
    "\n",
    "Actual Covariance Matrix Set 1:\n",
    "{cov_matrix_set_1_actual}\n",
    "\"\"\"\n",
    ")\n"
   ]
  },
  {
   "cell_type": "code",
   "execution_count": 16,
   "id": "aaa6d2b5",
   "metadata": {},
   "outputs": [
    {
     "name": "stdout",
     "output_type": "stream",
     "text": [
      "\n",
      "Target Correlation Matrix Set 2:\n",
      "[[1.       0.541451 0.702363 0.658261]\n",
      " [0.541451 1.       0.76484  0.411341]\n",
      " [0.702363 0.76484  1.       0.538116]\n",
      " [0.658261 0.411341 0.538116 1.      ]]\n",
      "\n",
      "Actual Correlation Matrix Set 2:\n",
      "[[1.         0.57564413 0.70140938 0.6895779 ]\n",
      " [0.57564413 1.         0.77003398 0.45013165]\n",
      " [0.70140938 0.77003398 1.         0.55028456]\n",
      " [0.6895779  0.45013165 0.55028456 1.        ]]\n",
      "\n",
      "Target Covariance Matrix Set 2:\n",
      "[[0.03254488 0.01771035 0.02278914 0.02660891]\n",
      " [0.01771035 0.03287404 0.02494147 0.01671153]\n",
      " [0.02278914 0.02494147 0.03234818 0.02168645]\n",
      " [0.02660891 0.01671153 0.02168645 0.05020826]]\n",
      "\n",
      "Actual Covariance Matrix Set 2:\n",
      "[[0.03427694 0.01841739 0.02324952 0.02886099]\n",
      " [0.01841739 0.02986386 0.02382453 0.01758488]\n",
      " [0.02324952 0.02382453 0.03205405 0.02227181]\n",
      " [0.02886099 0.01758488 0.02227181 0.05110385]]\n",
      "\n"
     ]
    }
   ],
   "source": [
    "cov_matrix_set_2_actual = set_2_returns_df.cov().values\n",
    "\n",
    "print(\n",
    "f\"\"\"\n",
    "Target Correlation Matrix Set 2:\n",
    "{corr_matrix_set_2}\n",
    "\n",
    "Actual Correlation Matrix Set 2:\n",
    "{set_2_returns_df.corr().values}\n",
    "\n",
    "Target Covariance Matrix Set 2:\n",
    "{cov_matrix_set_2}\n",
    "\n",
    "Actual Covariance Matrix Set 2:\n",
    "{cov_matrix_set_2_actual}\n",
    "\"\"\"\n",
    ")"
   ]
  },
  {
   "cell_type": "markdown",
   "id": "a4f07b83",
   "metadata": {},
   "source": [
    "## Generate Returns"
   ]
  },
  {
   "cell_type": "code",
   "execution_count": 17,
   "id": "bca796f1",
   "metadata": {},
   "outputs": [],
   "source": [
    "weights_matrix_shorts_allowed_set_1 = np.array([make_weights(True, rng_weight_seed) for _ in range(sample_size)])\n",
    "weights_matrix_no_shorts_allowed_set_1 = np.array([make_weights(False, rng_weight_seed) for _ in range(sample_size)])\n",
    "\n",
    "shorts_allowed_results_set_1 = portfolio_stats(weights_matrix_shorts_allowed_set_1, set_1_returns, cov_matrix_set_1_actual)\n",
    "shorts_allowed_results_set_1['InvestmentType'] = 'Shorts OK'\n",
    "\n",
    "no_shorts_results_set_1 = portfolio_stats(weights_matrix_no_shorts_allowed_set_1, set_1_returns, cov_matrix_set_1_actual)\n",
    "no_shorts_results_set_1['InvestmentType'] = 'Long Positions Only'"
   ]
  },
  {
   "cell_type": "code",
   "execution_count": 18,
   "id": "aee7ebce",
   "metadata": {},
   "outputs": [
    {
     "name": "stdout",
     "output_type": "stream",
     "text": [
      "Shorts Allowed Results Set 1:\n"
     ]
    },
    {
     "data": {
      "text/html": [
       "<div>\n",
       "<style scoped>\n",
       "    .dataframe tbody tr th:only-of-type {\n",
       "        vertical-align: middle;\n",
       "    }\n",
       "\n",
       "    .dataframe tbody tr th {\n",
       "        vertical-align: top;\n",
       "    }\n",
       "\n",
       "    .dataframe thead th {\n",
       "        text-align: right;\n",
       "    }\n",
       "</style>\n",
       "<table border=\"1\" class=\"dataframe\">\n",
       "  <thead>\n",
       "    <tr style=\"text-align: right;\">\n",
       "      <th></th>\n",
       "      <th>w1</th>\n",
       "      <th>w2</th>\n",
       "      <th>w3</th>\n",
       "      <th>w4</th>\n",
       "      <th>Positions</th>\n",
       "      <th>returnMean</th>\n",
       "      <th>returnSD</th>\n",
       "      <th>InvestmentType</th>\n",
       "    </tr>\n",
       "  </thead>\n",
       "  <tbody>\n",
       "    <tr>\n",
       "      <th>0</th>\n",
       "      <td>0.133834</td>\n",
       "      <td>-0.138512</td>\n",
       "      <td>-0.811852</td>\n",
       "      <td>1.816530</td>\n",
       "      <td>1</td>\n",
       "      <td>0.221122</td>\n",
       "      <td>0.392943</td>\n",
       "      <td>Shorts OK</td>\n",
       "    </tr>\n",
       "    <tr>\n",
       "      <th>1</th>\n",
       "      <td>-0.303841</td>\n",
       "      <td>0.243018</td>\n",
       "      <td>-0.956690</td>\n",
       "      <td>2.017513</td>\n",
       "      <td>1</td>\n",
       "      <td>0.252440</td>\n",
       "      <td>0.452585</td>\n",
       "      <td>Shorts OK</td>\n",
       "    </tr>\n",
       "    <tr>\n",
       "      <th>2</th>\n",
       "      <td>0.749265</td>\n",
       "      <td>0.708099</td>\n",
       "      <td>-0.911392</td>\n",
       "      <td>0.454028</td>\n",
       "      <td>1</td>\n",
       "      <td>0.005868</td>\n",
       "      <td>0.148847</td>\n",
       "      <td>Shorts OK</td>\n",
       "    </tr>\n",
       "    <tr>\n",
       "      <th>3</th>\n",
       "      <td>0.604842</td>\n",
       "      <td>-0.630410</td>\n",
       "      <td>0.391248</td>\n",
       "      <td>0.634320</td>\n",
       "      <td>1</td>\n",
       "      <td>0.154684</td>\n",
       "      <td>0.181752</td>\n",
       "      <td>Shorts OK</td>\n",
       "    </tr>\n",
       "    <tr>\n",
       "      <th>4</th>\n",
       "      <td>-0.689999</td>\n",
       "      <td>0.383240</td>\n",
       "      <td>0.917268</td>\n",
       "      <td>0.389492</td>\n",
       "      <td>1</td>\n",
       "      <td>0.222948</td>\n",
       "      <td>0.256444</td>\n",
       "      <td>Shorts OK</td>\n",
       "    </tr>\n",
       "  </tbody>\n",
       "</table>\n",
       "</div>"
      ],
      "text/plain": [
       "         w1        w2        w3        w4  Positions  returnMean  returnSD  \\\n",
       "0  0.133834 -0.138512 -0.811852  1.816530          1    0.221122  0.392943   \n",
       "1 -0.303841  0.243018 -0.956690  2.017513          1    0.252440  0.452585   \n",
       "2  0.749265  0.708099 -0.911392  0.454028          1    0.005868  0.148847   \n",
       "3  0.604842 -0.630410  0.391248  0.634320          1    0.154684  0.181752   \n",
       "4 -0.689999  0.383240  0.917268  0.389492          1    0.222948  0.256444   \n",
       "\n",
       "  InvestmentType  \n",
       "0      Shorts OK  \n",
       "1      Shorts OK  \n",
       "2      Shorts OK  \n",
       "3      Shorts OK  \n",
       "4      Shorts OK  "
      ]
     },
     "execution_count": 18,
     "metadata": {},
     "output_type": "execute_result"
    }
   ],
   "source": [
    "print(\"Shorts Allowed Results Set 1:\")\n",
    "shorts_allowed_results_set_1.head()"
   ]
  },
  {
   "cell_type": "code",
   "execution_count": 19,
   "id": "ef50574d",
   "metadata": {},
   "outputs": [
    {
     "name": "stdout",
     "output_type": "stream",
     "text": [
      "No Shorts Results Set 1:\n"
     ]
    },
    {
     "data": {
      "text/html": [
       "<div>\n",
       "<style scoped>\n",
       "    .dataframe tbody tr th:only-of-type {\n",
       "        vertical-align: middle;\n",
       "    }\n",
       "\n",
       "    .dataframe tbody tr th {\n",
       "        vertical-align: top;\n",
       "    }\n",
       "\n",
       "    .dataframe thead th {\n",
       "        text-align: right;\n",
       "    }\n",
       "</style>\n",
       "<table border=\"1\" class=\"dataframe\">\n",
       "  <thead>\n",
       "    <tr style=\"text-align: right;\">\n",
       "      <th></th>\n",
       "      <th>w1</th>\n",
       "      <th>w2</th>\n",
       "      <th>w3</th>\n",
       "      <th>w4</th>\n",
       "      <th>Positions</th>\n",
       "      <th>returnMean</th>\n",
       "      <th>returnSD</th>\n",
       "      <th>InvestmentType</th>\n",
       "    </tr>\n",
       "  </thead>\n",
       "  <tbody>\n",
       "    <tr>\n",
       "      <th>0</th>\n",
       "      <td>0.136598</td>\n",
       "      <td>0.341589</td>\n",
       "      <td>0.113277</td>\n",
       "      <td>0.408535</td>\n",
       "      <td>2</td>\n",
       "      <td>0.118369</td>\n",
       "      <td>0.152047</td>\n",
       "      <td>Long Positions Only</td>\n",
       "    </tr>\n",
       "    <tr>\n",
       "      <th>1</th>\n",
       "      <td>0.251601</td>\n",
       "      <td>0.406348</td>\n",
       "      <td>0.106374</td>\n",
       "      <td>0.235678</td>\n",
       "      <td>2</td>\n",
       "      <td>0.090079</td>\n",
       "      <td>0.118384</td>\n",
       "      <td>Long Positions Only</td>\n",
       "    </tr>\n",
       "    <tr>\n",
       "      <th>2</th>\n",
       "      <td>0.142193</td>\n",
       "      <td>0.302713</td>\n",
       "      <td>0.298061</td>\n",
       "      <td>0.257033</td>\n",
       "      <td>2</td>\n",
       "      <td>0.114882</td>\n",
       "      <td>0.136801</td>\n",
       "      <td>Long Positions Only</td>\n",
       "    </tr>\n",
       "    <tr>\n",
       "      <th>3</th>\n",
       "      <td>0.197247</td>\n",
       "      <td>0.254755</td>\n",
       "      <td>0.159803</td>\n",
       "      <td>0.388194</td>\n",
       "      <td>2</td>\n",
       "      <td>0.117444</td>\n",
       "      <td>0.145774</td>\n",
       "      <td>Long Positions Only</td>\n",
       "    </tr>\n",
       "    <tr>\n",
       "      <th>4</th>\n",
       "      <td>0.302853</td>\n",
       "      <td>0.294801</td>\n",
       "      <td>0.190599</td>\n",
       "      <td>0.211746</td>\n",
       "      <td>2</td>\n",
       "      <td>0.092502</td>\n",
       "      <td>0.113634</td>\n",
       "      <td>Long Positions Only</td>\n",
       "    </tr>\n",
       "  </tbody>\n",
       "</table>\n",
       "</div>"
      ],
      "text/plain": [
       "         w1        w2        w3        w4  Positions  returnMean  returnSD  \\\n",
       "0  0.136598  0.341589  0.113277  0.408535          2    0.118369  0.152047   \n",
       "1  0.251601  0.406348  0.106374  0.235678          2    0.090079  0.118384   \n",
       "2  0.142193  0.302713  0.298061  0.257033          2    0.114882  0.136801   \n",
       "3  0.197247  0.254755  0.159803  0.388194          2    0.117444  0.145774   \n",
       "4  0.302853  0.294801  0.190599  0.211746          2    0.092502  0.113634   \n",
       "\n",
       "        InvestmentType  \n",
       "0  Long Positions Only  \n",
       "1  Long Positions Only  \n",
       "2  Long Positions Only  \n",
       "3  Long Positions Only  \n",
       "4  Long Positions Only  "
      ]
     },
     "execution_count": 19,
     "metadata": {},
     "output_type": "execute_result"
    }
   ],
   "source": [
    "print(\"No Shorts Results Set 1:\")\n",
    "no_shorts_results_set_1.head()"
   ]
  },
  {
   "cell_type": "code",
   "execution_count": 20,
   "id": "340a9662",
   "metadata": {},
   "outputs": [],
   "source": [
    "weights_matrix_shorts_allowed_set_2 = np.array([make_weights(True, rng_weight_seed) for _ in range(sample_size)])\n",
    "weights_matrix_no_shorts_allowed_set_2 = np.array([make_weights(False, rng_weight_seed) for _ in range(sample_size)])\n",
    "\n",
    "shorts_allowed_results_set_2 = portfolio_stats(weights_matrix_shorts_allowed_set_2, set_2_returns, cov_matrix_set_2_actual)\n",
    "shorts_allowed_results_set_2['InvestmentType'] = 'Shorts OK'\n",
    "\n",
    "no_shorts_results_set_2 = portfolio_stats(weights_matrix_no_shorts_allowed_set_2, set_2_returns, cov_matrix_set_2_actual)\n",
    "no_shorts_results_set_2['InvestmentType'] = 'Long Positions Only'"
   ]
  },
  {
   "cell_type": "code",
   "execution_count": 21,
   "id": "14a56131",
   "metadata": {},
   "outputs": [
    {
     "name": "stdout",
     "output_type": "stream",
     "text": [
      "Shorts Allowed Results Set 2:\n"
     ]
    },
    {
     "data": {
      "text/html": [
       "<div>\n",
       "<style scoped>\n",
       "    .dataframe tbody tr th:only-of-type {\n",
       "        vertical-align: middle;\n",
       "    }\n",
       "\n",
       "    .dataframe tbody tr th {\n",
       "        vertical-align: top;\n",
       "    }\n",
       "\n",
       "    .dataframe thead th {\n",
       "        text-align: right;\n",
       "    }\n",
       "</style>\n",
       "<table border=\"1\" class=\"dataframe\">\n",
       "  <thead>\n",
       "    <tr style=\"text-align: right;\">\n",
       "      <th></th>\n",
       "      <th>w1</th>\n",
       "      <th>w2</th>\n",
       "      <th>w3</th>\n",
       "      <th>w4</th>\n",
       "      <th>Positions</th>\n",
       "      <th>returnMean</th>\n",
       "      <th>returnSD</th>\n",
       "      <th>InvestmentType</th>\n",
       "    </tr>\n",
       "  </thead>\n",
       "  <tbody>\n",
       "    <tr>\n",
       "      <th>0</th>\n",
       "      <td>-0.056507</td>\n",
       "      <td>-0.850464</td>\n",
       "      <td>0.373798</td>\n",
       "      <td>1.533173</td>\n",
       "      <td>1</td>\n",
       "      <td>0.240610</td>\n",
       "      <td>0.326532</td>\n",
       "      <td>Shorts OK</td>\n",
       "    </tr>\n",
       "    <tr>\n",
       "      <th>1</th>\n",
       "      <td>0.996010</td>\n",
       "      <td>-0.171085</td>\n",
       "      <td>0.841925</td>\n",
       "      <td>-0.666851</td>\n",
       "      <td>1</td>\n",
       "      <td>0.005469</td>\n",
       "      <td>0.216431</td>\n",
       "      <td>Shorts OK</td>\n",
       "    </tr>\n",
       "    <tr>\n",
       "      <th>2</th>\n",
       "      <td>0.220151</td>\n",
       "      <td>0.496598</td>\n",
       "      <td>0.890256</td>\n",
       "      <td>-0.607005</td>\n",
       "      <td>1</td>\n",
       "      <td>0.023959</td>\n",
       "      <td>0.212321</td>\n",
       "      <td>Shorts OK</td>\n",
       "    </tr>\n",
       "    <tr>\n",
       "      <th>3</th>\n",
       "      <td>0.114005</td>\n",
       "      <td>-0.391684</td>\n",
       "      <td>0.334734</td>\n",
       "      <td>0.942946</td>\n",
       "      <td>1</td>\n",
       "      <td>0.181046</td>\n",
       "      <td>0.234979</td>\n",
       "      <td>Shorts OK</td>\n",
       "    </tr>\n",
       "    <tr>\n",
       "      <th>4</th>\n",
       "      <td>-0.151543</td>\n",
       "      <td>0.930809</td>\n",
       "      <td>-0.416947</td>\n",
       "      <td>0.637681</td>\n",
       "      <td>1</td>\n",
       "      <td>0.163446</td>\n",
       "      <td>0.188993</td>\n",
       "      <td>Shorts OK</td>\n",
       "    </tr>\n",
       "  </tbody>\n",
       "</table>\n",
       "</div>"
      ],
      "text/plain": [
       "         w1        w2        w3        w4  Positions  returnMean  returnSD  \\\n",
       "0 -0.056507 -0.850464  0.373798  1.533173          1    0.240610  0.326532   \n",
       "1  0.996010 -0.171085  0.841925 -0.666851          1    0.005469  0.216431   \n",
       "2  0.220151  0.496598  0.890256 -0.607005          1    0.023959  0.212321   \n",
       "3  0.114005 -0.391684  0.334734  0.942946          1    0.181046  0.234979   \n",
       "4 -0.151543  0.930809 -0.416947  0.637681          1    0.163446  0.188993   \n",
       "\n",
       "  InvestmentType  \n",
       "0      Shorts OK  \n",
       "1      Shorts OK  \n",
       "2      Shorts OK  \n",
       "3      Shorts OK  \n",
       "4      Shorts OK  "
      ]
     },
     "execution_count": 21,
     "metadata": {},
     "output_type": "execute_result"
    }
   ],
   "source": [
    "print(\"Shorts Allowed Results Set 2:\")\n",
    "shorts_allowed_results_set_2.head()"
   ]
  },
  {
   "cell_type": "code",
   "execution_count": 22,
   "id": "431cf2cf",
   "metadata": {},
   "outputs": [
    {
     "name": "stdout",
     "output_type": "stream",
     "text": [
      "No Shorts Results Set 2:\n"
     ]
    },
    {
     "data": {
      "text/html": [
       "<div>\n",
       "<style scoped>\n",
       "    .dataframe tbody tr th:only-of-type {\n",
       "        vertical-align: middle;\n",
       "    }\n",
       "\n",
       "    .dataframe tbody tr th {\n",
       "        vertical-align: top;\n",
       "    }\n",
       "\n",
       "    .dataframe thead th {\n",
       "        text-align: right;\n",
       "    }\n",
       "</style>\n",
       "<table border=\"1\" class=\"dataframe\">\n",
       "  <thead>\n",
       "    <tr style=\"text-align: right;\">\n",
       "      <th></th>\n",
       "      <th>w1</th>\n",
       "      <th>w2</th>\n",
       "      <th>w3</th>\n",
       "      <th>w4</th>\n",
       "      <th>Positions</th>\n",
       "      <th>returnMean</th>\n",
       "      <th>returnSD</th>\n",
       "      <th>InvestmentType</th>\n",
       "    </tr>\n",
       "  </thead>\n",
       "  <tbody>\n",
       "    <tr>\n",
       "      <th>0</th>\n",
       "      <td>0.057802</td>\n",
       "      <td>0.487735</td>\n",
       "      <td>0.420612</td>\n",
       "      <td>0.033851</td>\n",
       "      <td>2</td>\n",
       "      <td>0.093283</td>\n",
       "      <td>0.161926</td>\n",
       "      <td>Long Positions Only</td>\n",
       "    </tr>\n",
       "    <tr>\n",
       "      <th>1</th>\n",
       "      <td>0.629464</td>\n",
       "      <td>0.029769</td>\n",
       "      <td>0.099888</td>\n",
       "      <td>0.240879</td>\n",
       "      <td>2</td>\n",
       "      <td>0.106738</td>\n",
       "      <td>0.175284</td>\n",
       "      <td>Long Positions Only</td>\n",
       "    </tr>\n",
       "    <tr>\n",
       "      <th>2</th>\n",
       "      <td>0.338985</td>\n",
       "      <td>0.040812</td>\n",
       "      <td>0.305676</td>\n",
       "      <td>0.314527</td>\n",
       "      <td>2</td>\n",
       "      <td>0.116767</td>\n",
       "      <td>0.169852</td>\n",
       "      <td>Long Positions Only</td>\n",
       "    </tr>\n",
       "    <tr>\n",
       "      <th>3</th>\n",
       "      <td>0.332068</td>\n",
       "      <td>0.004780</td>\n",
       "      <td>0.273863</td>\n",
       "      <td>0.389289</td>\n",
       "      <td>2</td>\n",
       "      <td>0.124424</td>\n",
       "      <td>0.174799</td>\n",
       "      <td>Long Positions Only</td>\n",
       "    </tr>\n",
       "    <tr>\n",
       "      <th>4</th>\n",
       "      <td>0.121508</td>\n",
       "      <td>0.256683</td>\n",
       "      <td>0.257227</td>\n",
       "      <td>0.364582</td>\n",
       "      <td>2</td>\n",
       "      <td>0.125777</td>\n",
       "      <td>0.164806</td>\n",
       "      <td>Long Positions Only</td>\n",
       "    </tr>\n",
       "  </tbody>\n",
       "</table>\n",
       "</div>"
      ],
      "text/plain": [
       "         w1        w2        w3        w4  Positions  returnMean  returnSD  \\\n",
       "0  0.057802  0.487735  0.420612  0.033851          2    0.093283  0.161926   \n",
       "1  0.629464  0.029769  0.099888  0.240879          2    0.106738  0.175284   \n",
       "2  0.338985  0.040812  0.305676  0.314527          2    0.116767  0.169852   \n",
       "3  0.332068  0.004780  0.273863  0.389289          2    0.124424  0.174799   \n",
       "4  0.121508  0.256683  0.257227  0.364582          2    0.125777  0.164806   \n",
       "\n",
       "        InvestmentType  \n",
       "0  Long Positions Only  \n",
       "1  Long Positions Only  \n",
       "2  Long Positions Only  \n",
       "3  Long Positions Only  \n",
       "4  Long Positions Only  "
      ]
     },
     "execution_count": 22,
     "metadata": {},
     "output_type": "execute_result"
    }
   ],
   "source": [
    "print(\"No Shorts Results Set 2:\")\n",
    "no_shorts_results_set_2.head()"
   ]
  },
  {
   "cell_type": "markdown",
   "id": "955056ea",
   "metadata": {},
   "source": [
    "## Returns Visualization"
   ]
  },
  {
   "cell_type": "code",
   "execution_count": 23,
   "id": "78262cb1",
   "metadata": {},
   "outputs": [
    {
     "name": "stdout",
     "output_type": "stream",
     "text": [
      "Saved `Set 1` plot to monte_carlo_results_set_1.pdf\n"
     ]
    },
    {
     "data": {
      "image/png": "[encoded data removed]",
      "text/plain": [
       "<Figure size 1135.75x500 with 2 Axes>"
      ]
     },
     "metadata": {},
     "output_type": "display_data"
    }
   ],
   "source": [
    "# Combine for plotting\n",
    "plotting_frame_set_1 = pd.concat([shorts_allowed_results_set_1, no_shorts_results_set_1], ignore_index=True)\n",
    "plotting_frame_set_1[\"Positions\"] = plotting_frame_set_1[\"Positions\"].map({1: \"Has Short(s)\", 2: \"No Shorts\"})\n",
    "plotting_frame_set_1[\"InvestmentType\"] = plotting_frame_set_1[\"InvestmentType\"].astype(\"category\")\n",
    "\n",
    "set_1_plot = sns.relplot(\n",
    "    data=plotting_frame_set_1,\n",
    "    x=\"returnSD\",\n",
    "    y=\"returnMean\",\n",
    "    hue=\"Positions\",\n",
    "    col=\"InvestmentType\",\n",
    "    palette={\n",
    "        \"Has Short(s)\": \"red\",\n",
    "        \"No Shorts\": \"darkblue\"\n",
    "    }\n",
    ")\n",
    "set_1_plot.set_axis_labels(\"Risk: Standard Deviation of Portfolio Returns\", \"Return: Mean of Portfolio Returns\")\n",
    "plt.tight_layout()\n",
    "\n",
    "# Save to PDF\n",
    "pdf_path = \"monte_carlo_results_set_1.pdf\"\n",
    "with PdfPages(pdf_path) as pdf:\n",
    "    pdf.savefig(set_1_plot.figure)\n",
    "\n",
    "print(\"Saved `Set 1` plot to\", pdf_path)"
   ]
  },
  {
   "cell_type": "code",
   "execution_count": 24,
   "id": "9d40e62a",
   "metadata": {},
   "outputs": [
    {
     "name": "stdout",
     "output_type": "stream",
     "text": [
      "Saved `Set 2` plot to monte_carlo_results_set_2.pdf\n"
     ]
    },
    {
     "data": {
      "image/png": "[encoded data removed]",
      "text/plain": [
       "<Figure size 1135.75x500 with 2 Axes>"
      ]
     },
     "metadata": {},
     "output_type": "display_data"
    }
   ],
   "source": [
    "# Combine for plotting\n",
    "plotting_frame_set_2 = pd.concat([shorts_allowed_results_set_2, no_shorts_results_set_2], ignore_index=True)\n",
    "plotting_frame_set_2[\"Positions\"] = plotting_frame_set_2[\"Positions\"].map({1: \"Has Short(s)\", 2: \"No Shorts\"})\n",
    "plotting_frame_set_2[\"InvestmentType\"] = plotting_frame_set_2[\"InvestmentType\"].astype(\"category\")\n",
    "\n",
    "set_2_plot = sns.relplot(\n",
    "    data=plotting_frame_set_2,\n",
    "    x=\"returnSD\",\n",
    "    y=\"returnMean\",\n",
    "    hue=\"Positions\",\n",
    "    col=\"InvestmentType\",\n",
    "    palette={\n",
    "        \"Has Short(s)\": \"red\",\n",
    "        \"No Shorts\": \"darkblue\"\n",
    "    }\n",
    ")\n",
    "set_2_plot.set_axis_labels(\"Risk: Standard Deviation of Portfolio Returns\", \"Return: Mean of Portfolio Returns\")\n",
    "plt.tight_layout()\n",
    "\n",
    "# Save to PDF\n",
    "pdf_path = \"monte_carlo_results_set_2.pdf\"\n",
    "with PdfPages(pdf_path) as pdf:\n",
    "    pdf.savefig(set_2_plot.figure)\n",
    "\n",
    "print(\"Saved `Set 2` plot to\", pdf_path)"
   ]
  }
 ],
 "metadata": {
  "kernelspec": {
   "display_name": ".venv",
   "language": "python",
   "name": "python3"
  },
  "language_info": {
   "codemirror_mode": {
    "name": "ipython",
    "version": 3
   },
   "file_extension": ".py",
   "mimetype": "text/x-python",
   "name": "python",
   "nbconvert_exporter": "python",
   "pygments_lexer": "ipython3",
   "version": "3.11.9"
  }
 },
 "nbformat": 4,
 "nbformat_minor": 5
}
